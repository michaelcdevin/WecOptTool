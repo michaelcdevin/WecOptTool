{
 "cells": [
  {
   "cell_type": "markdown",
   "metadata": {},
   "source": [
    "# Inverted pendulum test notebook\n",
    "Derived from Tutorial 4"
   ]
  },
  {
   "cell_type": "code",
   "execution_count": 315,
   "metadata": {},
   "outputs": [],
   "source": [
    "import capytaine as cpy\n",
    "import autograd.numpy as np\n",
    "import matplotlib.pyplot as plt\n",
    "import xarray as xr\n",
    "from math import comb\n",
    "\n",
    "import wecopttool as wot\n",
    "\n",
    "## set colorblind-friendly colormap for plots\n",
    "plt.style.use('tableau-colorblind10')\n",
    "\n",
    "wot.set_loglevel('INFO', capytaine=False)"
   ]
  },
  {
   "cell_type": "markdown",
   "metadata": {},
   "source": [
    "## 1. Model setup"
   ]
  },
  {
   "cell_type": "code",
   "execution_count": 316,
   "metadata": {},
   "outputs": [],
   "source": [
    "grav = -9.80665 # m/s^2"
   ]
  },
  {
   "cell_type": "markdown",
   "metadata": {},
   "source": [
    "### 1.1 Waves"
   ]
  },
  {
   "cell_type": "code",
   "execution_count": 317,
   "metadata": {},
   "outputs": [],
   "source": [
    "fend = 1.875\n",
    "nfreq_irreg = 150\n",
    "f1_irreg = fend / nfreq_irreg\n",
    "\n",
    "f1_reg = .325/2\n",
    "nfreq_reg = 12"
   ]
  },
  {
   "cell_type": "code",
   "execution_count": 318,
   "metadata": {},
   "outputs": [],
   "source": [
    "# regular\n",
    "amplitude = 0.15\n",
    "wavefreq = 0.325\n",
    "waves_regular = wot.waves.regular_wave(f1_reg, nfreq_reg, wavefreq, amplitude)\n",
    "\n",
    "# irregular\n",
    "Hs = 1.5\n",
    "Tp = 5 \n",
    "nrealizations = 2\n",
    "\n",
    "fp = 1/Tp\n",
    "spectrum = lambda f: wot.waves.pierson_moskowitz_spectrum(f, fp, Hs)\n",
    "efth = wot.waves.omnidirectional_spectrum(f1_irreg, nfreq_irreg, spectrum, \"Pierson-Moskowitz\")\n",
    "waves_irregular = wot.waves.long_crested_wave(efth, nrealizations=nrealizations)"
   ]
  },
  {
   "cell_type": "markdown",
   "metadata": {},
   "source": [
    "### 1.2 Basic properties\n",
    "\n",
    "#### Geometry"
   ]
  },
  {
   "cell_type": "code",
   "execution_count": 319,
   "metadata": {},
   "outputs": [],
   "source": [
    "in2m = 0.0254 # inch -> meter conversion factor\n",
    "draft = 0.5 # meters\n",
    "freeboard = 40. * in2m - draft\n",
    "hull_geom = wot.geom.WaveBot(r1=130./2 * in2m,\n",
    "                             r2=110./2 * in2m, \n",
    "                             h1=22.679 * in2m,\n",
    "                             h2=17.321 * in2m,\n",
    "                             scale_factor=1,\n",
    "                             freeboard=freeboard)\n",
    "mesh = hull_geom.mesh(mesh_size_factor=0.5)"
   ]
  },
  {
   "cell_type": "code",
   "execution_count": 320,
   "metadata": {},
   "outputs": [],
   "source": [
    "buoy_props = {\n",
    "    'CG': 0.298, # m\n",
    "    'MOI': 7484., # kg-m^2\n",
    "    'Resonance frequency': 0.35, # Hz\n",
    "}"
   ]
  },
  {
   "cell_type": "markdown",
   "metadata": {},
   "source": [
    "#### Hydrodynamics and hydrostatics"
   ]
  },
  {
   "cell_type": "code",
   "execution_count": null,
   "metadata": {},
   "outputs": [],
   "source": [
    "pnr_fb = cpy.FloatingBody.from_meshio(mesh, name=\"Pioneer\")\n",
    "pnr_fb.add_rotation_dof(name='Pitch')\n",
    "pnr_fb.center_of_mass = np.array([0., 0., buoy_props['CG']])\n",
    "pnr_fb.rotation_center = pnr_fb.center_of_mass\n",
    "ndof = pnr_fb.nb_dofs\n",
    "\n",
    "pnr_fb.inertia_matrix = xr.DataArray(data=np.asarray(([[buoy_props['MOI']]])),\n",
    "                            dims=['influenced_dof', 'radiating_dof'],\n",
    "                            coords={'influenced_dof': list(pnr_fb.dofs),\n",
    "                                    'radiating_dof': list(pnr_fb.dofs)},\n",
    "                            name=\"inertia_matrix\")"
   ]
  },
  {
   "cell_type": "code",
   "execution_count": null,
   "metadata": {},
   "outputs": [],
   "source": [
    "rho = 1025. # kg/m^3\n",
    "freq_reg = wot.frequency(f1_reg, nfreq_reg, False) # False -> no zero frequency\n",
    "bem_data_reg = wot.run_bem(pnr_fb, freq_reg)\n",
    "omega_reg = bem_data_reg.omega.values\n",
    "\n",
    "freq_irreg = wot.frequency(f1_irreg, nfreq_irreg, False) # False -> no zero frequency\n",
    "bem_data_irreg = wot.run_bem(pnr_fb, freq_irreg)\n",
    "omega_irreg = bem_data_irreg.omega.values\n",
    "\n",
    "pnr_fb.keep_immersed_part()\n",
    "k_buoy = pnr_fb.compute_hydrostatic_stiffness(rho=rho).values.squeeze()"
   ]
  },
  {
   "cell_type": "code",
   "execution_count": 364,
   "metadata": {},
   "outputs": [],
   "source": [
    "pendulum_properties = {\n",
    "    'coulomb_friction': 4.5, # N*m\n",
    "    'viscous_friction': 0.02, # N*ms/rad\n",
    "    'motor_gear_ratio': 0.118,\n",
    "    'MOI': 22.32, # This value is unchanged from the pendulum, but I'm sure it's different\n",
    "    'mass': 10.0, # kg\n",
    "    'length': 0.5, # m\n",
    "}\n",
    "\n",
    "spring_properties = {\n",
    "    'stiffness': 835.36, # N*m/rad\n",
    "    'gear_ratio': 0.334,\n",
    "    'Max torque': 750, # N-m\n",
    "    'Max displacement': np.deg2rad(45.0), # rad\n",
    "}\n",
    "\n",
    "# PTO properties\n",
    "pto_properties = {\n",
    "    'gear_ratio': 1.0,\n",
    "    'torque_constant': 0.164,\n",
    "    'winding_resistance': 0.0718,\n",
    "    'winding_inductance': 0.0,\n",
    "    'drivetrain_inertia': 0.0,\n",
    "    'drivetrain_friction': 0.0,\n",
    "    'drivetrain_stiffness': 0.0,\n",
    "}"
   ]
  },
  {
   "cell_type": "code",
   "execution_count": 365,
   "metadata": {},
   "outputs": [],
   "source": [
    "# load in the empirical data\n",
    "datafile = 'data/pioneer_empirical_data.nc'\n",
    "empirical_data = xr.load_dataset(datafile)\n",
    "\n",
    "omega_data = empirical_data.omega\n",
    "exc_coeff_data = empirical_data.exc_coeff_data_real + 1j*empirical_data.exc_coeff_data_imag\n",
    "Zi_data = empirical_data.Zi_data_real + 1j*empirical_data.Zi_data_imag\n",
    "Zi_stiffness = empirical_data.Zi_stiffness\n",
    "\n",
    "# here extrapolation for impedance and padding with zeros for the excitation\n",
    "exc_coeff_intrp_reg = exc_coeff_data.interp(omega = omega_reg, method='linear', kwargs={\"fill_value\": 0})\n",
    "Zi_intrp_reg = Zi_data.interp(omega = omega_reg, kwargs={\"fill_value\": \"extrapolate\"})\n",
    "\n",
    "exc_coeff_intrp_irreg = exc_coeff_data.interp(omega = omega_irreg, method='linear', kwargs={\"fill_value\": 0})\n",
    "Zi_intrp_irreg = Zi_data.interp(omega = omega_irreg, kwargs={\"fill_value\": \"extrapolate\"})"
   ]
  },
  {
   "cell_type": "code",
   "execution_count": null,
   "metadata": {},
   "outputs": [],
   "source": [
    "hd = wot.add_linear_friction(bem_data_irreg, friction = None) \n",
    "# we're not actually adding friction, but need the datavariables in hd \n",
    "hd = wot.check_radiation_damping(hd)\n",
    "\n",
    "Zi_bem = wot.hydrodynamic_impedance(hd)"
   ]
  },
  {
   "cell_type": "code",
   "execution_count": 367,
   "metadata": {},
   "outputs": [],
   "source": [
    "nstate_pto = 2 * nfreq_reg # PTO forces\n",
    "nstate_pen = 2 * nfreq_reg  # pendulum positions\n",
    "nstate_opt = nstate_pto + nstate_pen"
   ]
  },
  {
   "cell_type": "markdown",
   "metadata": {},
   "source": [
    "#### Manually defining PTO equations\n",
    "\n",
    "##### Relative motion"
   ]
  },
  {
   "cell_type": "code",
   "execution_count": 368,
   "metadata": {},
   "outputs": [],
   "source": [
    "def x_rel(wec, x_wec, x_opt):\n",
    "    pos_wec = wec.vec_to_dofmat(x_wec)\n",
    "    pos_pen = wec.vec_to_dofmat(x_opt[nstate_pto:])\n",
    "    return pos_wec - pos_pen\n",
    "\n",
    "def rel_position(wec, x_wec, x_opt, waves, nsubsteps=1):\n",
    "    pos_rel = x_rel(wec, x_wec, x_opt)\n",
    "    time_matrix = wec.time_mat_nsubsteps(nsubsteps)\n",
    "    return np.dot(time_matrix, pos_rel)\n",
    "\n",
    "def rel_velocity(wec, x_wec, x_opt, waves, nsubsteps=1):\n",
    "    pos_rel = x_rel(wec, x_wec, x_opt)\n",
    "    vel_rel = np.dot(wec.derivative_mat, pos_rel)\n",
    "    time_matrix = wec.time_mat_nsubsteps(nsubsteps)\n",
    "    return np.dot(time_matrix, vel_rel)"
   ]
  },
  {
   "cell_type": "markdown",
   "metadata": {},
   "source": [
    "##### Unstructured controller"
   ]
  },
  {
   "cell_type": "code",
   "execution_count": 369,
   "metadata": {},
   "outputs": [],
   "source": [
    "def force_from_generator(wec, x_wec, x_opt, waves=None, nsubsteps=1):\n",
    "    f_fd = np.reshape(x_opt[:nstate_pto], (-1, ndof), order='F')\n",
    "    time_matrix = wec.time_mat_nsubsteps(nsubsteps)\n",
    "    torque = np.dot(time_matrix, f_fd) * pendulum_properties['motor_gear_ratio']\n",
    "    return torque"
   ]
  },
  {
   "cell_type": "markdown",
   "metadata": {},
   "source": [
    "##### PTO Impedance"
   ]
  },
  {
   "cell_type": "code",
   "execution_count": 370,
   "metadata": {},
   "outputs": [],
   "source": [
    "drivetrain_impedance = (1j*omega_reg*pto_properties['drivetrain_inertia'] +\n",
    "                    pto_properties['drivetrain_friction'] +\n",
    "                    1/(1j*omega_reg)*pto_properties['drivetrain_stiffness'])\n",
    "\n",
    "winding_impedance = pto_properties['winding_resistance'] + 1j*omega_reg*pto_properties['winding_inductance']\n",
    "\n",
    "pto_impedance_11 = -1* pto_properties['gear_ratio']**2 * drivetrain_impedance\n",
    "off_diag = np.sqrt(3.0/2.0) * pto_properties['torque_constant'] * pto_properties['gear_ratio']\n",
    "pto_impedance_12 = -1*(off_diag+0j) * np.ones(omega_reg.shape)\n",
    "pto_impedance_21 = -1*(off_diag+0j) * np.ones(omega_reg.shape)\n",
    "pto_impedance_22 = winding_impedance\n",
    "pto_impedance = np.array([[pto_impedance_11, pto_impedance_12],\n",
    "                        [pto_impedance_21, pto_impedance_22]])\n",
    "\n",
    "pto = wot.pto.PTO(ndof, kinematics=[1], controller=None, impedance=pto_impedance, loss=None, names=None)\n"
   ]
  },
  {
   "cell_type": "markdown",
   "metadata": {},
   "source": [
    "##### Power and Energy"
   ]
  },
  {
   "cell_type": "code",
   "execution_count": 371,
   "metadata": {},
   "outputs": [],
   "source": [
    "def mechanical_power(wec, x_wec, x_opt, waves, nsubsteps=1):\n",
    "    force_td = force_from_generator(wec, x_wec, x_opt, waves, nsubsteps)\n",
    "    vel_td = rel_velocity(wec, x_wec, x_opt, waves, nsubsteps)\n",
    "    return vel_td * force_td\n",
    "\n",
    "def electrical_power(wec, x_wec, x_opt, waves, nsubsteps=1):\n",
    "    q1_td = rel_velocity(wec, x_wec, x_opt, waves)\n",
    "    e1_td = force_from_generator(wec, x_wec, x_opt, waves)\n",
    "    q1 = wot.complex_to_real(wec.td_to_fd(q1_td, False))\n",
    "    e1 = wot.complex_to_real(wec.td_to_fd(e1_td, False))\n",
    "    vars_1 = np.hstack([q1, e1])\n",
    "    vars_1_flat = wec.dofmat_to_vec(vars_1)\n",
    "    vars_2_flat = np.dot(pto._transfer_mat, vars_1_flat)\n",
    "    vars_2 = wot.vec_to_dofmat(vars_2_flat, 2)\n",
    "    q2 = vars_2[:, 0]\n",
    "    e2 = vars_2[:, 1]\n",
    "    time_mat = wec.time_mat_nsubsteps(nsubsteps)\n",
    "    q2_td = np.dot(time_mat, q2)\n",
    "    e2_td = np.dot(time_mat, e2)\n",
    "    return q2_td * e2_td\n",
    "\n",
    "def energy(wec, x_wec, x_opt, waves, nsubsteps=1):\n",
    "    power_td = electrical_power(wec, x_wec, x_opt, waves, nsubsteps)\n",
    "    return np.sum(power_td) * wec.dt/nsubsteps\n",
    "\n",
    "def average_electrical_power(wec, x_wec, x_opt, waves, nsubsteps=1):\n",
    "    e = energy(wec, x_wec, x_opt, waves, nsubsteps)\n",
    "    return e / wec.tf"
   ]
  },
  {
   "cell_type": "markdown",
   "metadata": {},
   "source": [
    "### 1.4 Constraints"
   ]
  },
  {
   "cell_type": "code",
   "execution_count": 372,
   "metadata": {},
   "outputs": [],
   "source": [
    "max_generator_torque = 25.8 # N*m\n",
    "nsubsteps_constraints = 5\n",
    "\n",
    "def constraint_max_generator_torque(wec, x_wec, x_opt, waves, nsubsteps=nsubsteps_constraints):\n",
    "    torque = force_from_generator(wec, x_wec, x_opt, waves, nsubsteps)\n",
    "    return max_generator_torque - np.abs(torque.flatten())"
   ]
  },
  {
   "cell_type": "markdown",
   "metadata": {},
   "source": [
    "### 1.5 Additional forces"
   ]
  },
  {
   "cell_type": "code",
   "execution_count": 373,
   "metadata": {},
   "outputs": [],
   "source": [
    "def force_from_friction(wec, x_wec, x_opt, waves = None, nsubsteps = 1):\n",
    "    rel_vel = rel_velocity(wec, x_wec, x_opt, waves, nsubsteps) * pendulum_properties['motor_gear_ratio']\n",
    "    fric =  -1*(\n",
    "        np.tanh(rel_vel)*pendulum_properties['coulomb_friction'] +\n",
    "        rel_vel*pendulum_properties['viscous_friction']\n",
    "    ) * pendulum_properties['motor_gear_ratio']\n",
    "    return fric\n",
    "\n",
    "def linear_spring(pos):\n",
    "    return spring_properties['gear_ratio'] * -spring_properties['stiffness'] * pos\n",
    "\n",
    "def force_from_lin_spring(wec, x_wec, x_opt, waves = None, nsubsteps = 1):\n",
    "        pos = rel_position(wec, x_wec, x_opt, waves, nsubsteps) * spring_properties['gear_ratio']\n",
    "        return linear_spring(pos)\n",
    "\n",
    "def nonlinear_spring(pos):\n",
    "    # 135 deg nonlinear spring\n",
    "    spring_eq_pos_td = pos - np.pi\n",
    "    n = 12\n",
    "    slope = 1/(2**(2*n))*comb(2*n,n)\n",
    "    scale = 1/slope\n",
    "    new_pos = 0\n",
    "    for ind in range(n):\n",
    "        k = ind+1\n",
    "        coeffs = comb(2*n, n-k)/(k*(2**(2*n-1)))\n",
    "        new_pos = new_pos - coeffs*np.sin(k*spring_eq_pos_td)\n",
    "    return spring_properties['gear_ratio'] * -spring_properties['stiffness'] * scale * new_pos\n",
    "\n",
    "def force_from_nl_spring(wec, x_wec, x_opt, waves = None, nsubsteps = 1):\n",
    "    pos = rel_position(wec, x_wec, x_opt, waves, nsubsteps) * spring_properties['gear_ratio']\n",
    "    return nonlinear_spring(pos)\n",
    "\n",
    "spring_angle_rad = np.arange(-2*np.pi, 2*np.pi, np.pi/200)"
   ]
  },
  {
   "cell_type": "markdown",
   "metadata": {},
   "source": [
    "### 1.6 Pendulum residual equation\n",
    "Torque from inverted pendulum:\n",
    "\n",
    "$$ \\tau_{pen} = mgl \\text{sin}(\\theta_{pen})\n"
   ]
  },
  {
   "cell_type": "code",
   "execution_count": 374,
   "metadata": {},
   "outputs": [],
   "source": [
    "def torque_from_pendulum(wec, x_wec, x_opt, waves=None, nsubsteps=1):\n",
    "    pos_pen = wec.vec_to_dofmat(x_opt[nstate_pto:])\n",
    "    time_matrix = wec.time_mat_nsubsteps(nsubsteps)\n",
    "    pos_pen = np.dot(time_matrix, pos_pen)\n",
    "    return pendulum_properties['mass'] * grav * pendulum_properties['length'] * np.sin(pos_pen)"
   ]
  },
  {
   "cell_type": "code",
   "execution_count": 375,
   "metadata": {},
   "outputs": [],
   "source": [
    "def pendulum_inertia(wec, x_wec, x_opt, waves = None, nsubsteps = 1):\n",
    "    pos_pen = wec.vec_to_dofmat(x_opt[nstate_pto:])\n",
    "    acc_pen = np.dot(wec.derivative2_mat, pos_pen)\n",
    "    time_matrix = wec.time_mat_nsubsteps(nsubsteps)\n",
    "    acc_pen = np.dot(time_matrix, acc_pen)\n",
    "    return pendulum_properties['MOI'] * acc_pen"
   ]
  },
  {
   "cell_type": "code",
   "execution_count": 376,
   "metadata": {},
   "outputs": [],
   "source": [
    "def pendulum_residual_lin_spring(wec, x_wec, x_opt, waves = None, nsubsteps = 1):\n",
    "    resid = (\n",
    "    pendulum_inertia(wec, x_wec, x_opt, waves, nsubsteps) +\n",
    "    torque_from_pendulum(wec, x_wec, x_opt, waves, nsubsteps) +\n",
    "    force_from_lin_spring(wec, x_wec, x_opt, waves, nsubsteps) +\n",
    "    force_from_friction(wec, x_wec, x_opt, waves, nsubsteps) +\n",
    "    force_from_generator(wec, x_wec, x_opt, waves, nsubsteps)\n",
    "    )\n",
    "    return resid.flatten()\n",
    "\n",
    "def pendulum_residual_nl_spring(wec, x_wec, x_opt, waves = None, nsubsteps = 1):\n",
    "    resid = (\n",
    "    pendulum_inertia(wec, x_wec, x_opt, waves, nsubsteps) +\n",
    "    torque_from_pendulum(wec, x_wec, x_opt, waves, nsubsteps) +\n",
    "    force_from_nl_spring(wec, x_wec, x_opt, waves, nsubsteps) +\n",
    "    force_from_friction(wec, x_wec, x_opt, waves, nsubsteps) +\n",
    "    force_from_generator(wec, x_wec, x_opt, waves, nsubsteps)\n",
    "    )\n",
    "    return resid.flatten()"
   ]
  },
  {
   "cell_type": "code",
   "execution_count": 377,
   "metadata": {},
   "outputs": [],
   "source": [
    "f_add_lin_spring = {\n",
    "    'Generator': force_from_generator,\n",
    "    'Friction': force_from_friction,\n",
    "    'Spring': force_from_lin_spring,\n",
    "    'Pendulum': torque_from_pendulum,\n",
    "}\n",
    "\n",
    "f_add_nl_spring = {\n",
    "    'Generator': force_from_generator,\n",
    "    'Friction': force_from_friction,\n",
    "    'Spring': force_from_nl_spring,\n",
    "    'Pendulum': torque_from_pendulum,\n",
    "}\n",
    "\n",
    "constraints_lin_spring = [\n",
    "    {'type': 'eq', 'fun': pendulum_residual_lin_spring}, # pendulum EoM\n",
    "    {'type': 'ineq', 'fun': constraint_max_generator_torque},\n",
    "]\n",
    "\n",
    "constraints_nl_spring = [\n",
    "    {'type': 'eq', 'fun': pendulum_residual_nl_spring}, # pendulum EoM\n",
    "    {'type': 'ineq', 'fun': constraint_max_generator_torque},\n",
    "]"
   ]
  },
  {
   "cell_type": "markdown",
   "metadata": {},
   "source": [
    "### 1.7 WEC object"
   ]
  },
  {
   "cell_type": "code",
   "execution_count": 378,
   "metadata": {},
   "outputs": [],
   "source": [
    "wec_lin = wot.WEC.from_impedance(freq_reg, Zi_intrp_reg,exc_coeff_intrp_reg,\n",
    "                            Zi_stiffness,\n",
    "                            f_add_lin_spring,\n",
    "                            constraints_lin_spring)\n",
    "\n",
    "wec_nl = wot.WEC.from_impedance(freq_reg, Zi_intrp_reg,exc_coeff_intrp_reg,\n",
    "                            Zi_stiffness,\n",
    "                            f_add_nl_spring,\n",
    "                            constraints_nl_spring)"
   ]
  },
  {
   "cell_type": "markdown",
   "metadata": {},
   "source": [
    "## 2. Regular wave results\n",
    "\n",
    "### 2.1 Solve"
   ]
  },
  {
   "cell_type": "code",
   "execution_count": null,
   "metadata": {},
   "outputs": [],
   "source": [
    "obj_fun = average_electrical_power\n",
    "results = wec_lin.solve(\n",
    "    waves_regular,\n",
    "    obj_fun,\n",
    "    nstate_opt,\n",
    "    optim_options={'maxiter': 500},\n",
    "    scale_x_wec=1e1,\n",
    "    scale_x_opt=np.concatenate((np.array([1e-1])*np.ones(nstate_pto), 1e-1 * np.ones(nstate_pen))),\n",
    "    scale_obj=1e-0,\n",
    ")\n",
    "x_wec_0, x_opt_0 = wec_lin.decompose_state(results[0].x)\n",
    "\n",
    "results = wec_nl.solve(\n",
    "    waves_regular,\n",
    "    obj_fun,\n",
    "    nstate_opt,\n",
    "    optim_options={'maxiter': 500},\n",
    "    x_wec_0=x_wec_0, # initialize with result from linear spring case\n",
    "    x_opt_0=x_opt_0, # initialize with result from linear spring case\n",
    "    scale_x_wec=1e1,\n",
    "    scale_x_opt=np.concatenate((np.array([1e-1])*np.ones(nstate_pto), 1e-1 * np.ones(nstate_pen))),\n",
    "    scale_obj=1e-2,\n",
    ")\n",
    "print(f'Optimal average power: {results[0].fun:.2f} W')"
   ]
  },
  {
   "cell_type": "markdown",
   "metadata": {},
   "source": [
    "### 2.2 Post-process and plot"
   ]
  },
  {
   "cell_type": "code",
   "execution_count": 408,
   "metadata": {},
   "outputs": [],
   "source": [
    "nsubsteps = 5\n",
    "wec_fdom, wec_tdom = wec_nl.post_process(wec_nl, results, waves_regular, nsubsteps=nsubsteps)\n",
    "t = wec_tdom[0].time.values\n",
    "\n",
    "# Manually post-process PTO and pendulum outputs\n",
    "x_wec, x_opt = wot.decompose_state(results[0].x, 1, nfreq_reg)\n",
    "fw_pos = np.dot(wec_nl.time_mat_nsubsteps(nsubsteps), x_opt[nstate_pto:])\n",
    "pto_pos = rel_position(wec_nl, x_wec, x_opt, waves_regular.sel(realization=0), nsubsteps)\n",
    "pto_vel = rel_velocity(wec_nl, x_wec, x_opt, waves_regular.sel(realization=0), nsubsteps)\n",
    "pto_force = force_from_generator(wec_nl, x_wec, x_opt, waves_regular.sel(realization=0), nsubsteps)\n",
    "pto_force_fd = wec_nl.td_to_fd(pto_force[::nsubsteps])\n",
    "spring_force = force_from_nl_spring(wec_nl, x_wec, x_opt, waves_regular.sel(realization=0), nsubsteps)\n",
    "pto_mech_power = mechanical_power(wec_nl, x_wec, x_opt, waves_regular.sel(realization=0), nsubsteps)\n",
    "pto_elec_power = electrical_power(wec_nl, x_wec, x_opt, waves_regular.sel(realization=0), nsubsteps)\n",
    "pen_torque = torque_from_pendulum(wec_nl, x_wec, x_opt, waves_regular.sel(realization=0), nsubsteps)\n",
    "avg_mech_power = np.mean(pto_mech_power)\n",
    "avg_elec_power = np.mean(pto_elec_power)"
   ]
  },
  {
   "cell_type": "code",
   "execution_count": null,
   "metadata": {},
   "outputs": [],
   "source": [
    "fig1, ax1 = plt.subplots()\n",
    "ax1.plot(t, pen_torque, label='Pendulum Torque')\n",
    "ax1.plot(t, fw_pos*180/np.pi, label='Pendulum Position')\n",
    "ax1.legend()"
   ]
  },
  {
   "cell_type": "code",
   "execution_count": null,
   "metadata": {},
   "outputs": [],
   "source": [
    "fig2, ax2 = plt.subplots()\n",
    "ax2.plot(t, pto_mech_power, label='Mech. power ($\\\\bar{P}_{mech}$: ' + f'{avg_mech_power:.1f} W)')\n",
    "ax2.plot(t, pto_elec_power, linestyle='dashdot', label='Elec. power ($\\\\bar{P}_{elec}$: ' + f'{avg_elec_power:.1f} W)')\n",
    "ax2.set_title('Power Output')\n",
    "ax2.set_ylabel('Power [W]')\n",
    "\n",
    "ax2.legend()\n",
    "ax2.set_xlabel('Time [s]')"
   ]
  }
 ],
 "metadata": {
  "kernelspec": {
   "display_name": "wot_dev",
   "language": "python",
   "name": "python3"
  },
  "language_info": {
   "codemirror_mode": {
    "name": "ipython",
    "version": 3
   },
   "file_extension": ".py",
   "mimetype": "text/x-python",
   "name": "python",
   "nbconvert_exporter": "python",
   "pygments_lexer": "ipython3",
   "version": "3.12.5"
  }
 },
 "nbformat": 4,
 "nbformat_minor": 2
}
